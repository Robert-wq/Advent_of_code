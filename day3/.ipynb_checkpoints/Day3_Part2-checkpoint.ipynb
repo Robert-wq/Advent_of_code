{
 "cells": [
  {
   "cell_type": "code",
   "execution_count": 1,
   "metadata": {},
   "outputs": [],
   "source": [
    "import pandas as pd\n",
    "import numpy as np"
   ]
  },
  {
   "cell_type": "code",
   "execution_count": 2,
   "metadata": {},
   "outputs": [
    {
     "data": {
      "text/html": [
       "<div>\n",
       "<style scoped>\n",
       "    .dataframe tbody tr th:only-of-type {\n",
       "        vertical-align: middle;\n",
       "    }\n",
       "\n",
       "    .dataframe tbody tr th {\n",
       "        vertical-align: top;\n",
       "    }\n",
       "\n",
       "    .dataframe thead th {\n",
       "        text-align: right;\n",
       "    }\n",
       "</style>\n",
       "<table border=\"1\" class=\"dataframe\">\n",
       "  <thead>\n",
       "    <tr style=\"text-align: right;\">\n",
       "      <th></th>\n",
       "      <th>number</th>\n",
       "    </tr>\n",
       "  </thead>\n",
       "  <tbody>\n",
       "    <tr>\n",
       "      <th>0</th>\n",
       "      <td>101010011010</td>\n",
       "    </tr>\n",
       "    <tr>\n",
       "      <th>1</th>\n",
       "      <td>101111111001</td>\n",
       "    </tr>\n",
       "    <tr>\n",
       "      <th>2</th>\n",
       "      <td>100100100000</td>\n",
       "    </tr>\n",
       "    <tr>\n",
       "      <th>3</th>\n",
       "      <td>000001010010</td>\n",
       "    </tr>\n",
       "    <tr>\n",
       "      <th>4</th>\n",
       "      <td>100100110011</td>\n",
       "    </tr>\n",
       "    <tr>\n",
       "      <th>...</th>\n",
       "      <td>...</td>\n",
       "    </tr>\n",
       "    <tr>\n",
       "      <th>995</th>\n",
       "      <td>001101100100</td>\n",
       "    </tr>\n",
       "    <tr>\n",
       "      <th>996</th>\n",
       "      <td>001000010010</td>\n",
       "    </tr>\n",
       "    <tr>\n",
       "      <th>997</th>\n",
       "      <td>010000000011</td>\n",
       "    </tr>\n",
       "    <tr>\n",
       "      <th>998</th>\n",
       "      <td>000110000010</td>\n",
       "    </tr>\n",
       "    <tr>\n",
       "      <th>999</th>\n",
       "      <td>000001101000</td>\n",
       "    </tr>\n",
       "  </tbody>\n",
       "</table>\n",
       "<p>1000 rows × 1 columns</p>\n",
       "</div>"
      ],
      "text/plain": [
       "           number\n",
       "0    101010011010\n",
       "1    101111111001\n",
       "2    100100100000\n",
       "3    000001010010\n",
       "4    100100110011\n",
       "..            ...\n",
       "995  001101100100\n",
       "996  001000010010\n",
       "997  010000000011\n",
       "998  000110000010\n",
       "999  000001101000\n",
       "\n",
       "[1000 rows x 1 columns]"
      ]
     },
     "execution_count": 2,
     "metadata": {},
     "output_type": "execute_result"
    }
   ],
   "source": [
    "df = pd.read_csv('input.txt', names=['number'], dtype=str)\n",
    "df"
   ]
  },
  {
   "cell_type": "markdown",
   "metadata": {},
   "source": [
    "```\n",
    "while list > 1    \n",
    "    Search through each 12 bit number\n",
    "        check the first bit\n",
    "            if it is equal to the equivilent bit creteria bit\n",
    "                add to a new list\n",
    "    check list size\n",
    "        if list == 1\n",
    "            return that 12 bit number\n",
    "```        \n",
    "    "
   ]
  },
  {
   "cell_type": "markdown",
   "metadata": {},
   "source": [
    "- loop through each number\n",
    "- find out if the first digit has more 1s or zeroes\n",
    "- if its ones then loop through again and add all the 1s of that bit to an array\n",
    "- now start with the new array\n",
    "- go back to point 2\n",
    "\n"
   ]
  },
  {
   "cell_type": "code",
   "execution_count": 78,
   "metadata": {},
   "outputs": [],
   "source": [
    "num_l = df['number'].to_list()"
   ]
  },
  {
   "cell_type": "code",
   "execution_count": 79,
   "metadata": {},
   "outputs": [],
   "source": [
    "#returns True if ones are >= to zeros, False otherwise \n",
    "def more_ones(l, pos):\n",
    "    ones = 0\n",
    "    zeroes = 0\n",
    "    for b in num_l:\n",
    "        if(b[pos] == '1'):\n",
    "            ones += 1\n",
    "        else:\n",
    "            zeroes += 1\n",
    "    if(ones >= zeroes):\n",
    "        return True\n",
    "    else:\n",
    "        return False            "
   ]
  },
  {
   "cell_type": "code",
   "execution_count": 80,
   "metadata": {},
   "outputs": [],
   "source": [
    "def all_ones_or_zeroes(ch, pos, li):\n",
    "    l = []\n",
    "    for n in li:\n",
    "        if(n[pos] == ch):\n",
    "            l.append(n)\n",
    "    return l"
   ]
  },
  {
   "cell_type": "code",
   "execution_count": 125,
   "metadata": {},
   "outputs": [],
   "source": [
    "def bin_to_dec_converter(bin_string):\n",
    "    dec = 0\n",
    "    for c in range(len(bin_string)):\n",
    "        #gets the number from 2 ** 11 to 2 ** 0, had to add the extra '-1' to account for 0 index\n",
    "        if(bin_string[c] == '1'):\n",
    "            dec += (2 ** ((len(bin_string) - 1) - c))\n",
    "    return dec"
   ]
  },
  {
   "cell_type": "code",
   "execution_count": 126,
   "metadata": {},
   "outputs": [],
   "source": [
    "def oxygen_generator(num_1):\n",
    "    li = num_l\n",
    "    for i in range(len(num_l[0])):\n",
    "        if(len(li) <= 1):\n",
    "            break\n",
    "        if(more_ones(li, i)):\n",
    "            li = all_ones_or_zeroes('1', i, li)\n",
    "        else:\n",
    "            li = all_ones_or_zeroes('0', i, li)\n",
    "\n",
    "    if(len(li) > 0):\n",
    "        print(li[0])\n",
    "        print('length of l = ' + str(len(li)))\n",
    "        return bin_to_dec_converter(li[0])\n",
    "    else:\n",
    "        print('error, length of l = ' + str(len(li)))"
   ]
  },
  {
   "cell_type": "code",
   "execution_count": 127,
   "metadata": {},
   "outputs": [],
   "source": [
    "def CO2_scrubber(num_1):\n",
    "    li = num_l\n",
    "    for i in range(len(num_l[0])):\n",
    "        if(len(li) <= 1):\n",
    "            break\n",
    "        if(not more_ones(li, i)):\n",
    "            li = all_ones_or_zeroes('1', i, li)\n",
    "        else:\n",
    "            li = all_ones_or_zeroes('0', i, li)\n",
    "\n",
    "    if(len(li) > 0):\n",
    "        print(li[0])\n",
    "        print('length of l = ' + str(len(li)))\n",
    "        return bin_to_dec_converter(li[0])\n",
    "    else:\n",
    "        print('error, length of l = ' + str(len(li)))"
   ]
  },
  {
   "cell_type": "code",
   "execution_count": 128,
   "metadata": {
    "scrolled": true
   },
   "outputs": [
    {
     "name": "stdout",
     "output_type": "stream",
     "text": [
      "110100010111\n",
      "length of l = 1\n",
      "001011101011\n",
      "length of l = 1\n"
     ]
    },
    {
     "data": {
      "text/plain": [
       "2503197"
      ]
     },
     "execution_count": 128,
     "metadata": {},
     "output_type": "execute_result"
    }
   ],
   "source": [
    "result = oxygen_generator(num_l) * CO2_scrubber(num_l)\n",
    "result"
   ]
  },
  {
   "cell_type": "code",
   "execution_count": 129,
   "metadata": {},
   "outputs": [
    {
     "data": {
      "text/plain": [
       "747"
      ]
     },
     "execution_count": 129,
     "metadata": {},
     "output_type": "execute_result"
    }
   ],
   "source": [
    "\n",
    "bin_to_dec_converter('001011101011')"
   ]
  },
  {
   "cell_type": "code",
   "execution_count": 122,
   "metadata": {},
   "outputs": [
    {
     "data": {
      "text/plain": [
       "6702"
      ]
     },
     "execution_count": 122,
     "metadata": {},
     "output_type": "execute_result"
    }
   ],
   "source": [
    "bin_to_dec_converter('110100010111')"
   ]
  },
  {
   "cell_type": "code",
   "execution_count": 123,
   "metadata": {},
   "outputs": [
    {
     "data": {
      "text/plain": [
       "14"
      ]
     },
     "execution_count": 123,
     "metadata": {},
     "output_type": "execute_result"
    }
   ],
   "source": [
    "bin_to_dec_converter('0111')"
   ]
  },
  {
   "cell_type": "code",
   "execution_count": 124,
   "metadata": {},
   "outputs": [
    {
     "data": {
      "text/plain": [
       "2503197"
      ]
     },
     "execution_count": 124,
     "metadata": {},
     "output_type": "execute_result"
    }
   ],
   "source": [
    "3351 * 747"
   ]
  },
  {
   "cell_type": "code",
   "execution_count": null,
   "metadata": {},
   "outputs": [],
   "source": []
  },
  {
   "cell_type": "code",
   "execution_count": null,
   "metadata": {},
   "outputs": [],
   "source": []
  }
 ],
 "metadata": {
  "kernelspec": {
   "display_name": "Python 3",
   "language": "python",
   "name": "python3"
  },
  "language_info": {
   "codemirror_mode": {
    "name": "ipython",
    "version": 3
   },
   "file_extension": ".py",
   "mimetype": "text/x-python",
   "name": "python",
   "nbconvert_exporter": "python",
   "pygments_lexer": "ipython3",
   "version": "3.8.5"
  }
 },
 "nbformat": 4,
 "nbformat_minor": 4
}
